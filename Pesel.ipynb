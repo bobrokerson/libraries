{
 "cells": [
  {
   "cell_type": "code",
   "execution_count": 1,
   "metadata": {},
   "outputs": [
    {
     "data": {
      "text/plain": [
       "0    (pesel, 27051345900)\n",
       "1    (pesel, 29051519361)\n",
       "2    (pesel, 18111527235)\n",
       "3    (pesel, 79072572054)\n",
       "4    (pesel, 61090168034)\n",
       "5    (pesel, 96121332238)\n",
       "6    (pesel, 70122393199)\n",
       "7    (pesel, 24052935570)\n",
       "8    (pesel, 58120419600)\n",
       "dtype: object"
      ]
     },
     "execution_count": 1,
     "metadata": {},
     "output_type": "execute_result"
    }
   ],
   "source": [
    "import pandas as pd\n",
    "from faker import Faker \n",
    "import numpy as np\n",
    "\n",
    "fake = Faker('pl_PL')\n",
    "\n",
    "def generate_ssns(x): \n",
    "    number ={} \n",
    "    for i in range(0, x): \n",
    "        number[i] = {} \n",
    "        number[i]= f'pesel',fake.pesel()    \n",
    "                \n",
    "    return number\n",
    "    \n",
    "df = pd.Series(generate_ssns(9)).transpose()\n",
    "df.head(9)\n"
   ]
  },
  {
   "cell_type": "code",
   "execution_count": null,
   "metadata": {},
   "outputs": [],
   "source": []
  }
 ],
 "metadata": {
  "kernelspec": {
   "display_name": "Python 3",
   "language": "python",
   "name": "python3"
  },
  "language_info": {
   "codemirror_mode": {
    "name": "ipython",
    "version": 3
   },
   "file_extension": ".py",
   "mimetype": "text/x-python",
   "name": "python",
   "nbconvert_exporter": "python",
   "pygments_lexer": "ipython3",
   "version": "3.8.5"
  }
 },
 "nbformat": 4,
 "nbformat_minor": 4
}
